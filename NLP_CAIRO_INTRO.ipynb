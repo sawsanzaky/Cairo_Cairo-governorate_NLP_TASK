{
  "nbformat": 4,
  "nbformat_minor": 0,
  "metadata": {
    "colab": {
      "name": "NLP_CAIRO_INTRO.ipynb",
      "provenance": [],
      "authorship_tag": "ABX9TyNHwlLQX/0J/lnceTiBFXJ2",
      "include_colab_link": true
    },
    "kernelspec": {
      "name": "python3",
      "display_name": "Python 3"
    },
    "language_info": {
      "name": "python"
    }
  },
  "cells": [
    {
      "cell_type": "markdown",
      "metadata": {
        "id": "view-in-github",
        "colab_type": "text"
      },
      "source": [
        "<a href=\"https://colab.research.google.com/github/sawsanzaky/Cairo_Cairo-governorate_NLP_TASK/blob/main/NLP_CAIRO_INTRO.ipynb\" target=\"_parent\"><img src=\"https://colab.research.google.com/assets/colab-badge.svg\" alt=\"Open In Colab\"/></a>"
      ]
    },
    {
      "cell_type": "markdown",
      "source": [
        "**Use API to Generate Dataset**"
      ],
      "metadata": {
        "id": "ehLmsKPDa61h"
      }
    },
    {
      "cell_type": "code",
      "execution_count": 2,
      "metadata": {
        "id": "kCSQQXiD6Z9D"
      },
      "outputs": [],
      "source": [
        "#https://places.ls.hereapi.com/places/v1/autosuggest?at=40.74917,-73.98529&q=chrysler&apiKey={jRw8lhwtK83e5cT7LsFO-IBX8iCOEfls4SakC0A7d-w }"
      ]
    },
    {
      "cell_type": "code",
      "source": [
        "import requests\n"
      ],
      "metadata": {
        "id": "fs9FQ_Dz6daw"
      },
      "execution_count": 1,
      "outputs": []
    },
    {
      "cell_type": "code",
      "source": [
        "import requests\n",
        "from requests.structures import CaseInsensitiveDict\n",
        "\n",
        "url = \"https://api.geoapify.com/v2/place-details?id=id%3D514d368a517c511e40594bfd7b574ec84740f00103f90135335d1c00000000920313416e61746f6d697363686573204d757365756d&apiKey=4f3754ed58b64d79bff7691d3cef37f8\"\n",
        "\n",
        "headers = CaseInsensitiveDict()\n",
        "headers[\"Accept\"] = \"application/json\"\n",
        "\n",
        "resp = requests.get(url, headers=headers)\n",
        "\n",
        "print(resp.status_code)"
      ],
      "metadata": {
        "id": "JnHlDxv5QBF1",
        "outputId": "09b52089-48c4-431f-ba77-2d736bb3d8aa",
        "colab": {
          "base_uri": "https://localhost:8080/"
        }
      },
      "execution_count": 32,
      "outputs": [
        {
          "output_type": "stream",
          "name": "stdout",
          "text": [
            "400\n"
          ]
        }
      ]
    },
    {
      "cell_type": "code",
      "source": [
        "#base_site=\"https://places.ls.hereapi.com/places/v1/autosuggest?at=30.04,-31.2&q=cairo&apiKey=YdwX1rPlKcS4pifCTqpFBYpf1a2ADcdXTSmmmHiQ2aM\"\n",
        "#position': [30.04427, 31.23525]\n",
        "#base_site=\"https://places.ls.hereapi.com/places/v1/discover/explore?at=48.858%2C2.2945&apiKey=YdwX1rPlKcS4pifCTqpFBYpf1a2ADcdXTSmmmHiQ2aM\"\n",
        "#base_site =\"https://geocoder.ls.hereapi.com/search/6.2/geocode.json?languages=en-US&maxresults=4&searchtext=Sunnyvale&apiKey={jRw8lhwtK83e5cT7LsFO-IBX8iCOEfls4SakC0A7d-w}'\n",
        "#base_site=\"https://places.ls.hereapi.com/places/v1/autosuggest?at=30.04,-31.2&q=المعز&languages=ar-US&apiKey=YdwX1rPlKcS4pifCTqpFBYpf1a2ADcdXTSmmmHiQ2aM\"\n",
        "#base_site= \"https://revgeocode.search.hereapi.com/v1/revgeocode?at=30.04,-31.2&q=cairo&apiKey=YdwX1rPlKcS4pifCTqpFBYpf1a2ADcdXTSmmmHiQ2aM\"\n",
        "base_site=\" https://discover.search.hereapi.com/v1/discover?apiKey=YdwX1rPlKcS4pifCTqpFBYpf1a2ADcdXTSmmmHiQ2aM&at=30.04427,31.23525&q=[القطامية,المقطم]&languages=en-US\"\n"
      ],
      "metadata": {
        "id": "DDR0H-dtQP9Z"
      },
      "execution_count": 184,
      "outputs": []
    },
    {
      "cell_type": "code",
      "source": [
        "text=requests.get(url=base_site)\n"
      ],
      "metadata": {
        "id": "5diyuvQhQXni"
      },
      "execution_count": 185,
      "outputs": []
    },
    {
      "cell_type": "code",
      "source": [
        "text"
      ],
      "metadata": {
        "colab": {
          "base_uri": "https://localhost:8080/"
        },
        "id": "KK7aLNz2QkqE",
        "outputId": "f37a0ead-d32b-42d2-d7b7-4ddd8009c2ba"
      },
      "execution_count": 186,
      "outputs": [
        {
          "output_type": "execute_result",
          "data": {
            "text/plain": [
              "<Response [200]>"
            ]
          },
          "metadata": {},
          "execution_count": 186
        }
      ]
    },
    {
      "cell_type": "code",
      "source": [
        "\n",
        "#text.json().keys()\n",
        "#text.json()\n",
        "\n",
        "import pandas as pd\n",
        "import json\n",
        "from pandas import json_normalize\n",
        "\n",
        "\n"
      ],
      "metadata": {
        "id": "RhdHDdExQ7dA"
      },
      "execution_count": 187,
      "outputs": []
    },
    {
      "cell_type": "code",
      "source": [
        "\n",
        "# Use json_normalize() to convert JSON to DataFrame\n",
        "dict = text.json()\n",
        "df2 = json_normalize(dict['items']) \n",
        "df2.head(1)\n"
      ],
      "metadata": {
        "id": "qkhv5aAvss9O",
        "outputId": "f72c8a74-12a2-4098-a763-0f3b5af1c241",
        "colab": {
          "base_uri": "https://localhost:8080/",
          "height": 226
        }
      },
      "execution_count": 188,
      "outputs": [
        {
          "output_type": "execute_result",
          "data": {
            "text/plain": [
              "    title                                                 id language  \\\n",
              "0  المقطم  here:pds:place:818stq4z-6be345e1740642e4b76a60...       ar   \n",
              "\n",
              "  resultType                                access  distance  \\\n",
              "0      place  [{'lat': 30.04627, 'lng': 31.24863}]      1294   \n",
              "\n",
              "                                          categories  \\\n",
              "0  [{'id': '600-6600-0078', 'name': 'متجر متخصِّص...   \n",
              "\n",
              "                                          references  \\\n",
              "0  [{'supplier': {'id': 'core'}, 'id': '104935243...   \n",
              "\n",
              "                                      address.label address.countryCode  ...  \\\n",
              "0  المقطم, شارع سيد البيلاوي, القاهرة, القاهرة, مصر                 EGY  ...   \n",
              "\n",
              "  address.city address.district     address.street position.lat position.lng  \\\n",
              "0      القاهرة           عابدين  شارع سيد البيلاوي     30.04632     31.24848   \n",
              "\n",
              "   contacts  mapView.west mapView.south  mapView.east  mapView.north  \n",
              "0       NaN           NaN           NaN           NaN            NaN  \n",
              "\n",
              "[1 rows x 22 columns]"
            ],
            "text/html": [
              "\n",
              "  <div id=\"df-b7332df4-6d86-4ec7-b4c2-2a61624b277b\">\n",
              "    <div class=\"colab-df-container\">\n",
              "      <div>\n",
              "<style scoped>\n",
              "    .dataframe tbody tr th:only-of-type {\n",
              "        vertical-align: middle;\n",
              "    }\n",
              "\n",
              "    .dataframe tbody tr th {\n",
              "        vertical-align: top;\n",
              "    }\n",
              "\n",
              "    .dataframe thead th {\n",
              "        text-align: right;\n",
              "    }\n",
              "</style>\n",
              "<table border=\"1\" class=\"dataframe\">\n",
              "  <thead>\n",
              "    <tr style=\"text-align: right;\">\n",
              "      <th></th>\n",
              "      <th>title</th>\n",
              "      <th>id</th>\n",
              "      <th>language</th>\n",
              "      <th>resultType</th>\n",
              "      <th>access</th>\n",
              "      <th>distance</th>\n",
              "      <th>categories</th>\n",
              "      <th>references</th>\n",
              "      <th>address.label</th>\n",
              "      <th>address.countryCode</th>\n",
              "      <th>...</th>\n",
              "      <th>address.city</th>\n",
              "      <th>address.district</th>\n",
              "      <th>address.street</th>\n",
              "      <th>position.lat</th>\n",
              "      <th>position.lng</th>\n",
              "      <th>contacts</th>\n",
              "      <th>mapView.west</th>\n",
              "      <th>mapView.south</th>\n",
              "      <th>mapView.east</th>\n",
              "      <th>mapView.north</th>\n",
              "    </tr>\n",
              "  </thead>\n",
              "  <tbody>\n",
              "    <tr>\n",
              "      <th>0</th>\n",
              "      <td>المقطم</td>\n",
              "      <td>here:pds:place:818stq4z-6be345e1740642e4b76a60...</td>\n",
              "      <td>ar</td>\n",
              "      <td>place</td>\n",
              "      <td>[{'lat': 30.04627, 'lng': 31.24863}]</td>\n",
              "      <td>1294</td>\n",
              "      <td>[{'id': '600-6600-0078', 'name': 'متجر متخصِّص...</td>\n",
              "      <td>[{'supplier': {'id': 'core'}, 'id': '104935243...</td>\n",
              "      <td>المقطم, شارع سيد البيلاوي, القاهرة, القاهرة, مصر</td>\n",
              "      <td>EGY</td>\n",
              "      <td>...</td>\n",
              "      <td>القاهرة</td>\n",
              "      <td>عابدين</td>\n",
              "      <td>شارع سيد البيلاوي</td>\n",
              "      <td>30.04632</td>\n",
              "      <td>31.24848</td>\n",
              "      <td>NaN</td>\n",
              "      <td>NaN</td>\n",
              "      <td>NaN</td>\n",
              "      <td>NaN</td>\n",
              "      <td>NaN</td>\n",
              "    </tr>\n",
              "  </tbody>\n",
              "</table>\n",
              "<p>1 rows × 22 columns</p>\n",
              "</div>\n",
              "      <button class=\"colab-df-convert\" onclick=\"convertToInteractive('df-b7332df4-6d86-4ec7-b4c2-2a61624b277b')\"\n",
              "              title=\"Convert this dataframe to an interactive table.\"\n",
              "              style=\"display:none;\">\n",
              "        \n",
              "  <svg xmlns=\"http://www.w3.org/2000/svg\" height=\"24px\"viewBox=\"0 0 24 24\"\n",
              "       width=\"24px\">\n",
              "    <path d=\"M0 0h24v24H0V0z\" fill=\"none\"/>\n",
              "    <path d=\"M18.56 5.44l.94 2.06.94-2.06 2.06-.94-2.06-.94-.94-2.06-.94 2.06-2.06.94zm-11 1L8.5 8.5l.94-2.06 2.06-.94-2.06-.94L8.5 2.5l-.94 2.06-2.06.94zm10 10l.94 2.06.94-2.06 2.06-.94-2.06-.94-.94-2.06-.94 2.06-2.06.94z\"/><path d=\"M17.41 7.96l-1.37-1.37c-.4-.4-.92-.59-1.43-.59-.52 0-1.04.2-1.43.59L10.3 9.45l-7.72 7.72c-.78.78-.78 2.05 0 2.83L4 21.41c.39.39.9.59 1.41.59.51 0 1.02-.2 1.41-.59l7.78-7.78 2.81-2.81c.8-.78.8-2.07 0-2.86zM5.41 20L4 18.59l7.72-7.72 1.47 1.35L5.41 20z\"/>\n",
              "  </svg>\n",
              "      </button>\n",
              "      \n",
              "  <style>\n",
              "    .colab-df-container {\n",
              "      display:flex;\n",
              "      flex-wrap:wrap;\n",
              "      gap: 12px;\n",
              "    }\n",
              "\n",
              "    .colab-df-convert {\n",
              "      background-color: #E8F0FE;\n",
              "      border: none;\n",
              "      border-radius: 50%;\n",
              "      cursor: pointer;\n",
              "      display: none;\n",
              "      fill: #1967D2;\n",
              "      height: 32px;\n",
              "      padding: 0 0 0 0;\n",
              "      width: 32px;\n",
              "    }\n",
              "\n",
              "    .colab-df-convert:hover {\n",
              "      background-color: #E2EBFA;\n",
              "      box-shadow: 0px 1px 2px rgba(60, 64, 67, 0.3), 0px 1px 3px 1px rgba(60, 64, 67, 0.15);\n",
              "      fill: #174EA6;\n",
              "    }\n",
              "\n",
              "    [theme=dark] .colab-df-convert {\n",
              "      background-color: #3B4455;\n",
              "      fill: #D2E3FC;\n",
              "    }\n",
              "\n",
              "    [theme=dark] .colab-df-convert:hover {\n",
              "      background-color: #434B5C;\n",
              "      box-shadow: 0px 1px 3px 1px rgba(0, 0, 0, 0.15);\n",
              "      filter: drop-shadow(0px 1px 2px rgba(0, 0, 0, 0.3));\n",
              "      fill: #FFFFFF;\n",
              "    }\n",
              "  </style>\n",
              "\n",
              "      <script>\n",
              "        const buttonEl =\n",
              "          document.querySelector('#df-b7332df4-6d86-4ec7-b4c2-2a61624b277b button.colab-df-convert');\n",
              "        buttonEl.style.display =\n",
              "          google.colab.kernel.accessAllowed ? 'block' : 'none';\n",
              "\n",
              "        async function convertToInteractive(key) {\n",
              "          const element = document.querySelector('#df-b7332df4-6d86-4ec7-b4c2-2a61624b277b');\n",
              "          const dataTable =\n",
              "            await google.colab.kernel.invokeFunction('convertToInteractive',\n",
              "                                                     [key], {});\n",
              "          if (!dataTable) return;\n",
              "\n",
              "          const docLinkHtml = 'Like what you see? Visit the ' +\n",
              "            '<a target=\"_blank\" href=https://colab.research.google.com/notebooks/data_table.ipynb>data table notebook</a>'\n",
              "            + ' to learn more about interactive tables.';\n",
              "          element.innerHTML = '';\n",
              "          dataTable['output_type'] = 'display_data';\n",
              "          await google.colab.output.renderOutput(dataTable, element);\n",
              "          const docLink = document.createElement('div');\n",
              "          docLink.innerHTML = docLinkHtml;\n",
              "          element.appendChild(docLink);\n",
              "        }\n",
              "      </script>\n",
              "    </div>\n",
              "  </div>\n",
              "  "
            ]
          },
          "metadata": {},
          "execution_count": 188
        }
      ]
    },
    {
      "cell_type": "markdown",
      "source": [
        "**Create Dataset for \" address is in Cairo governorate and Not \"**"
      ],
      "metadata": {
        "id": "yrSopBB4bRAT"
      }
    },
    {
      "cell_type": "code",
      "source": [
        "import numpy as np\n",
        "import pandas as pd \n",
        "\n",
        "cities= pd.read_fwf(\"/Cairo.txt\",names=[\"Address\"])\n",
        "#cities\n"
      ],
      "metadata": {
        "id": "K-N8_v0TR8kU"
      },
      "execution_count": 31,
      "outputs": []
    },
    {
      "cell_type": "code",
      "source": [
        "cities_cairo = cities['Address'].tolist()\n",
        "cities_alex \t=[\"المنتزه\",\"سموحة\",\"العامرية\" ,\" العامرية\"]\n",
        "cities_monf =[\"السادات\", \"منوف\" ,\"شبين\",\"قويسنا\"]\n",
        "cities_giza =[\"اكتوبر\",\"هرم\",'امبابه']\n",
        "cities_aswan =[\"إدفو\",\"نصر النوبة\",\"كوم أمبو\",\"دراو\"]\n",
        "cities_sina =[\"شرم\",\"دهب\"]"
      ],
      "metadata": {
        "id": "EwvzMs_PoROg"
      },
      "execution_count": 35,
      "outputs": []
    },
    {
      "cell_type": "code",
      "source": [
        ""
      ],
      "metadata": {
        "id": "uiXt2jSiBrqA"
      },
      "execution_count": 33,
      "outputs": []
    },
    {
      "cell_type": "code",
      "source": [
        "str(np.random.randint(100))+' '+np.random.choice(cities_cairo)"
      ],
      "metadata": {
        "colab": {
          "base_uri": "https://localhost:8080/",
          "height": 35
        },
        "id": "5QT3zXv4XqV4",
        "outputId": "00685ead-a300-44f3-b94f-d643e6ac449f"
      },
      "execution_count": 34,
      "outputs": [
        {
          "output_type": "execute_result",
          "data": {
            "text/plain": [
              "'59 حلوان'"
            ],
            "application/vnd.google.colaboratory.intrinsic+json": {
              "type": "string"
            }
          },
          "metadata": {},
          "execution_count": 34
        }
      ]
    },
    {
      "cell_type": "code",
      "source": [
        "street = [ \" سيد البدوي \", \" حسين الدسوقي\" ,\" احمد زكي\"]\n",
        "street1=[\"شارع \" , \" طريق \" ]\n",
        "c=[np.random.choice(street1)+np.random.choice(street)+ \" \" +np.random.choice(cities_cairo)+ str(np.random.randint(100)) for i in range(1000)]\n",
        "a=[np.random.choice(street1)+np.random.choice(street)+ \" \" +np.random.choice(cities_alex)+ str(np.random.randint(100)) for i in range(1000)]\n",
        "m=[np.random.choice(street1)+np.random.choice(street)+ \" \" +np.random.choice(cities_monf)+ str(np.random.randint(100)) for i in range(1000)]\n",
        "g=[np.random.choice(street1)+np.random.choice(street)+ \" \" +np.random.choice(cities_giza)+ str(np.random.randint(100)) for i in range(1000)]\n",
        "asw=[np.random.choice(street1)+np.random.choice(street)+ \" \" +np.random.choice(cities_aswan)+ str(np.random.randint(100)) for i in range(1000)]\n",
        "s=c=[np.random.choice(street1)+np.random.choice(street)+ \" \" +np.random.choice(cities_sina)+ str(np.random.randint(100)) for i in range(1000)]"
      ],
      "metadata": {
        "id": "S9bFhoTiXyp7"
      },
      "execution_count": 36,
      "outputs": []
    },
    {
      "cell_type": "code",
      "source": [
        "#labels= np.zeros(shape=(1000,))"
      ],
      "metadata": {
        "id": "gY2zqyY9YU1u"
      },
      "execution_count": 134,
      "outputs": []
    },
    {
      "cell_type": "code",
      "source": [
        "labels1= ['القاهرة']*1000\n",
        "labels2= ['الاسكندرية']*1000\n",
        "labels3= ['المنوفية']*1000\n",
        "labels4= ['الجيزة']*1000\n",
        "labels5= ['اسوان']*1000\n",
        "labels6= ['سيناء']*1000"
      ],
      "metadata": {
        "id": "emaVQ-2qsv4Z"
      },
      "execution_count": 37,
      "outputs": []
    },
    {
      "cell_type": "code",
      "source": [
        "cairo_data= np.vstack((c,labels1))\n",
        "alex_data = np.vstack((a,labels2))\n",
        "monf_data =np.vstack((m,labels3))\n",
        "giza_data=np.vstack((g,labels4))\n",
        "asw_data =np.vstack((asw,labels5))\n",
        "sina_data =np.vstack((s,labels6))\n",
        "cairo_data.T\n",
        "alex_data.T\n",
        "monf_data.T\n",
        "giza_data.T\n",
        "asw_data.T\n",
        "sina_data.T\n",
        "cairo_data_df = pd.DataFrame(cairo_data.T, columns=[\"Address\",\"label1\"])\n",
        "alex_data_df = pd.DataFrame(alex_data.T, columns=[\"Address\",\"label2\"])\n",
        "monf_data_df = pd.DataFrame(monf_data.T, columns=[\"Address\",\"label3\"])\n",
        "giza_data_df = pd.DataFrame(giza_data.T, columns=[\"Address\",\"label4\"])\n",
        "asw_data_df = pd.DataFrame(asw_data.T, columns=[\"Address\",\"label5\"])\n",
        "sina_data_df = pd.DataFrame(sina_data.T, columns=[\"Address\",\"label6\"])\n",
        "alex_data_df\n"
      ],
      "metadata": {
        "id": "XfaO3LcYtFBw",
        "outputId": "fbad83c9-50d2-4f95-8bc9-2b031b940d94",
        "colab": {
          "base_uri": "https://localhost:8080/",
          "height": 424
        }
      },
      "execution_count": 41,
      "outputs": [
        {
          "output_type": "execute_result",
          "data": {
            "text/plain": [
              "                             Address      label2\n",
              "0             شارع  احمد زكي سموحة34  الاسكندرية\n",
              "1      طريق  حسين الدسوقي العامرية72  الاسكندرية\n",
              "2         طريق  حسين الدسوقي سموحة44  الاسكندرية\n",
              "3             شارع  احمد زكي سموحة28  الاسكندرية\n",
              "4      شارع  سيد البدوي   العامرية53  الاسكندرية\n",
              "..                               ...         ...\n",
              "995     شارع  حسين الدسوقي المنتزه70  الاسكندرية\n",
              "996   طريق  حسين الدسوقي  العامرية13  الاسكندرية\n",
              "997       شارع  حسين الدسوقي سموحة24  الاسكندرية\n",
              "998     شارع  حسين الدسوقي المنتزه57  الاسكندرية\n",
              "999       شارع  حسين الدسوقي سموحة57  الاسكندرية\n",
              "\n",
              "[1000 rows x 2 columns]"
            ],
            "text/html": [
              "\n",
              "  <div id=\"df-6d5e92ab-2497-479b-a02b-eae63d2ed1a8\">\n",
              "    <div class=\"colab-df-container\">\n",
              "      <div>\n",
              "<style scoped>\n",
              "    .dataframe tbody tr th:only-of-type {\n",
              "        vertical-align: middle;\n",
              "    }\n",
              "\n",
              "    .dataframe tbody tr th {\n",
              "        vertical-align: top;\n",
              "    }\n",
              "\n",
              "    .dataframe thead th {\n",
              "        text-align: right;\n",
              "    }\n",
              "</style>\n",
              "<table border=\"1\" class=\"dataframe\">\n",
              "  <thead>\n",
              "    <tr style=\"text-align: right;\">\n",
              "      <th></th>\n",
              "      <th>Address</th>\n",
              "      <th>label2</th>\n",
              "    </tr>\n",
              "  </thead>\n",
              "  <tbody>\n",
              "    <tr>\n",
              "      <th>0</th>\n",
              "      <td>شارع  احمد زكي سموحة34</td>\n",
              "      <td>الاسكندرية</td>\n",
              "    </tr>\n",
              "    <tr>\n",
              "      <th>1</th>\n",
              "      <td>طريق  حسين الدسوقي العامرية72</td>\n",
              "      <td>الاسكندرية</td>\n",
              "    </tr>\n",
              "    <tr>\n",
              "      <th>2</th>\n",
              "      <td>طريق  حسين الدسوقي سموحة44</td>\n",
              "      <td>الاسكندرية</td>\n",
              "    </tr>\n",
              "    <tr>\n",
              "      <th>3</th>\n",
              "      <td>شارع  احمد زكي سموحة28</td>\n",
              "      <td>الاسكندرية</td>\n",
              "    </tr>\n",
              "    <tr>\n",
              "      <th>4</th>\n",
              "      <td>شارع  سيد البدوي   العامرية53</td>\n",
              "      <td>الاسكندرية</td>\n",
              "    </tr>\n",
              "    <tr>\n",
              "      <th>...</th>\n",
              "      <td>...</td>\n",
              "      <td>...</td>\n",
              "    </tr>\n",
              "    <tr>\n",
              "      <th>995</th>\n",
              "      <td>شارع  حسين الدسوقي المنتزه70</td>\n",
              "      <td>الاسكندرية</td>\n",
              "    </tr>\n",
              "    <tr>\n",
              "      <th>996</th>\n",
              "      <td>طريق  حسين الدسوقي  العامرية13</td>\n",
              "      <td>الاسكندرية</td>\n",
              "    </tr>\n",
              "    <tr>\n",
              "      <th>997</th>\n",
              "      <td>شارع  حسين الدسوقي سموحة24</td>\n",
              "      <td>الاسكندرية</td>\n",
              "    </tr>\n",
              "    <tr>\n",
              "      <th>998</th>\n",
              "      <td>شارع  حسين الدسوقي المنتزه57</td>\n",
              "      <td>الاسكندرية</td>\n",
              "    </tr>\n",
              "    <tr>\n",
              "      <th>999</th>\n",
              "      <td>شارع  حسين الدسوقي سموحة57</td>\n",
              "      <td>الاسكندرية</td>\n",
              "    </tr>\n",
              "  </tbody>\n",
              "</table>\n",
              "<p>1000 rows × 2 columns</p>\n",
              "</div>\n",
              "      <button class=\"colab-df-convert\" onclick=\"convertToInteractive('df-6d5e92ab-2497-479b-a02b-eae63d2ed1a8')\"\n",
              "              title=\"Convert this dataframe to an interactive table.\"\n",
              "              style=\"display:none;\">\n",
              "        \n",
              "  <svg xmlns=\"http://www.w3.org/2000/svg\" height=\"24px\"viewBox=\"0 0 24 24\"\n",
              "       width=\"24px\">\n",
              "    <path d=\"M0 0h24v24H0V0z\" fill=\"none\"/>\n",
              "    <path d=\"M18.56 5.44l.94 2.06.94-2.06 2.06-.94-2.06-.94-.94-2.06-.94 2.06-2.06.94zm-11 1L8.5 8.5l.94-2.06 2.06-.94-2.06-.94L8.5 2.5l-.94 2.06-2.06.94zm10 10l.94 2.06.94-2.06 2.06-.94-2.06-.94-.94-2.06-.94 2.06-2.06.94z\"/><path d=\"M17.41 7.96l-1.37-1.37c-.4-.4-.92-.59-1.43-.59-.52 0-1.04.2-1.43.59L10.3 9.45l-7.72 7.72c-.78.78-.78 2.05 0 2.83L4 21.41c.39.39.9.59 1.41.59.51 0 1.02-.2 1.41-.59l7.78-7.78 2.81-2.81c.8-.78.8-2.07 0-2.86zM5.41 20L4 18.59l7.72-7.72 1.47 1.35L5.41 20z\"/>\n",
              "  </svg>\n",
              "      </button>\n",
              "      \n",
              "  <style>\n",
              "    .colab-df-container {\n",
              "      display:flex;\n",
              "      flex-wrap:wrap;\n",
              "      gap: 12px;\n",
              "    }\n",
              "\n",
              "    .colab-df-convert {\n",
              "      background-color: #E8F0FE;\n",
              "      border: none;\n",
              "      border-radius: 50%;\n",
              "      cursor: pointer;\n",
              "      display: none;\n",
              "      fill: #1967D2;\n",
              "      height: 32px;\n",
              "      padding: 0 0 0 0;\n",
              "      width: 32px;\n",
              "    }\n",
              "\n",
              "    .colab-df-convert:hover {\n",
              "      background-color: #E2EBFA;\n",
              "      box-shadow: 0px 1px 2px rgba(60, 64, 67, 0.3), 0px 1px 3px 1px rgba(60, 64, 67, 0.15);\n",
              "      fill: #174EA6;\n",
              "    }\n",
              "\n",
              "    [theme=dark] .colab-df-convert {\n",
              "      background-color: #3B4455;\n",
              "      fill: #D2E3FC;\n",
              "    }\n",
              "\n",
              "    [theme=dark] .colab-df-convert:hover {\n",
              "      background-color: #434B5C;\n",
              "      box-shadow: 0px 1px 3px 1px rgba(0, 0, 0, 0.15);\n",
              "      filter: drop-shadow(0px 1px 2px rgba(0, 0, 0, 0.3));\n",
              "      fill: #FFFFFF;\n",
              "    }\n",
              "  </style>\n",
              "\n",
              "      <script>\n",
              "        const buttonEl =\n",
              "          document.querySelector('#df-6d5e92ab-2497-479b-a02b-eae63d2ed1a8 button.colab-df-convert');\n",
              "        buttonEl.style.display =\n",
              "          google.colab.kernel.accessAllowed ? 'block' : 'none';\n",
              "\n",
              "        async function convertToInteractive(key) {\n",
              "          const element = document.querySelector('#df-6d5e92ab-2497-479b-a02b-eae63d2ed1a8');\n",
              "          const dataTable =\n",
              "            await google.colab.kernel.invokeFunction('convertToInteractive',\n",
              "                                                     [key], {});\n",
              "          if (!dataTable) return;\n",
              "\n",
              "          const docLinkHtml = 'Like what you see? Visit the ' +\n",
              "            '<a target=\"_blank\" href=https://colab.research.google.com/notebooks/data_table.ipynb>data table notebook</a>'\n",
              "            + ' to learn more about interactive tables.';\n",
              "          element.innerHTML = '';\n",
              "          dataTable['output_type'] = 'display_data';\n",
              "          await google.colab.output.renderOutput(dataTable, element);\n",
              "          const docLink = document.createElement('div');\n",
              "          docLink.innerHTML = docLinkHtml;\n",
              "          element.appendChild(docLink);\n",
              "        }\n",
              "      </script>\n",
              "    </div>\n",
              "  </div>\n",
              "  "
            ]
          },
          "metadata": {},
          "execution_count": 41
        }
      ]
    },
    {
      "cell_type": "code",
      "source": [
        "data =pd.concat([cairo_data_df, alex_data_df,monf_data_df,giza_data_df,asw_data_df,sina_data_df], ignore_index=True)\n",
        "data.head()"
      ],
      "metadata": {
        "id": "8EKrmIdltGYw",
        "outputId": "8a8b0da2-0dc2-4d60-e400-b974bb231d0b",
        "colab": {
          "base_uri": "https://localhost:8080/",
          "height": 206
        }
      },
      "execution_count": 44,
      "outputs": [
        {
          "output_type": "execute_result",
          "data": {
            "text/plain": [
              "                    Address   label1 label2 label3 label4 label5 label6\n",
              "0   شارع  سيد البدوي  شرم36  القاهرة    NaN    NaN    NaN    NaN    NaN\n",
              "1   طريق  سيد البدوي  شرم54  القاهرة    NaN    NaN    NaN    NaN    NaN\n",
              "2      شارع  احمد زكي شرم72  القاهرة    NaN    NaN    NaN    NaN    NaN\n",
              "3   طريق  سيد البدوي  دهب91  القاهرة    NaN    NaN    NaN    NaN    NaN\n",
              "4   شارع  سيد البدوي  دهب20  القاهرة    NaN    NaN    NaN    NaN    NaN"
            ],
            "text/html": [
              "\n",
              "  <div id=\"df-622ca164-646f-4f7e-825e-daf201d92b2f\">\n",
              "    <div class=\"colab-df-container\">\n",
              "      <div>\n",
              "<style scoped>\n",
              "    .dataframe tbody tr th:only-of-type {\n",
              "        vertical-align: middle;\n",
              "    }\n",
              "\n",
              "    .dataframe tbody tr th {\n",
              "        vertical-align: top;\n",
              "    }\n",
              "\n",
              "    .dataframe thead th {\n",
              "        text-align: right;\n",
              "    }\n",
              "</style>\n",
              "<table border=\"1\" class=\"dataframe\">\n",
              "  <thead>\n",
              "    <tr style=\"text-align: right;\">\n",
              "      <th></th>\n",
              "      <th>Address</th>\n",
              "      <th>label1</th>\n",
              "      <th>label2</th>\n",
              "      <th>label3</th>\n",
              "      <th>label4</th>\n",
              "      <th>label5</th>\n",
              "      <th>label6</th>\n",
              "    </tr>\n",
              "  </thead>\n",
              "  <tbody>\n",
              "    <tr>\n",
              "      <th>0</th>\n",
              "      <td>شارع  سيد البدوي  شرم36</td>\n",
              "      <td>القاهرة</td>\n",
              "      <td>NaN</td>\n",
              "      <td>NaN</td>\n",
              "      <td>NaN</td>\n",
              "      <td>NaN</td>\n",
              "      <td>NaN</td>\n",
              "    </tr>\n",
              "    <tr>\n",
              "      <th>1</th>\n",
              "      <td>طريق  سيد البدوي  شرم54</td>\n",
              "      <td>القاهرة</td>\n",
              "      <td>NaN</td>\n",
              "      <td>NaN</td>\n",
              "      <td>NaN</td>\n",
              "      <td>NaN</td>\n",
              "      <td>NaN</td>\n",
              "    </tr>\n",
              "    <tr>\n",
              "      <th>2</th>\n",
              "      <td>شارع  احمد زكي شرم72</td>\n",
              "      <td>القاهرة</td>\n",
              "      <td>NaN</td>\n",
              "      <td>NaN</td>\n",
              "      <td>NaN</td>\n",
              "      <td>NaN</td>\n",
              "      <td>NaN</td>\n",
              "    </tr>\n",
              "    <tr>\n",
              "      <th>3</th>\n",
              "      <td>طريق  سيد البدوي  دهب91</td>\n",
              "      <td>القاهرة</td>\n",
              "      <td>NaN</td>\n",
              "      <td>NaN</td>\n",
              "      <td>NaN</td>\n",
              "      <td>NaN</td>\n",
              "      <td>NaN</td>\n",
              "    </tr>\n",
              "    <tr>\n",
              "      <th>4</th>\n",
              "      <td>شارع  سيد البدوي  دهب20</td>\n",
              "      <td>القاهرة</td>\n",
              "      <td>NaN</td>\n",
              "      <td>NaN</td>\n",
              "      <td>NaN</td>\n",
              "      <td>NaN</td>\n",
              "      <td>NaN</td>\n",
              "    </tr>\n",
              "  </tbody>\n",
              "</table>\n",
              "</div>\n",
              "      <button class=\"colab-df-convert\" onclick=\"convertToInteractive('df-622ca164-646f-4f7e-825e-daf201d92b2f')\"\n",
              "              title=\"Convert this dataframe to an interactive table.\"\n",
              "              style=\"display:none;\">\n",
              "        \n",
              "  <svg xmlns=\"http://www.w3.org/2000/svg\" height=\"24px\"viewBox=\"0 0 24 24\"\n",
              "       width=\"24px\">\n",
              "    <path d=\"M0 0h24v24H0V0z\" fill=\"none\"/>\n",
              "    <path d=\"M18.56 5.44l.94 2.06.94-2.06 2.06-.94-2.06-.94-.94-2.06-.94 2.06-2.06.94zm-11 1L8.5 8.5l.94-2.06 2.06-.94-2.06-.94L8.5 2.5l-.94 2.06-2.06.94zm10 10l.94 2.06.94-2.06 2.06-.94-2.06-.94-.94-2.06-.94 2.06-2.06.94z\"/><path d=\"M17.41 7.96l-1.37-1.37c-.4-.4-.92-.59-1.43-.59-.52 0-1.04.2-1.43.59L10.3 9.45l-7.72 7.72c-.78.78-.78 2.05 0 2.83L4 21.41c.39.39.9.59 1.41.59.51 0 1.02-.2 1.41-.59l7.78-7.78 2.81-2.81c.8-.78.8-2.07 0-2.86zM5.41 20L4 18.59l7.72-7.72 1.47 1.35L5.41 20z\"/>\n",
              "  </svg>\n",
              "      </button>\n",
              "      \n",
              "  <style>\n",
              "    .colab-df-container {\n",
              "      display:flex;\n",
              "      flex-wrap:wrap;\n",
              "      gap: 12px;\n",
              "    }\n",
              "\n",
              "    .colab-df-convert {\n",
              "      background-color: #E8F0FE;\n",
              "      border: none;\n",
              "      border-radius: 50%;\n",
              "      cursor: pointer;\n",
              "      display: none;\n",
              "      fill: #1967D2;\n",
              "      height: 32px;\n",
              "      padding: 0 0 0 0;\n",
              "      width: 32px;\n",
              "    }\n",
              "\n",
              "    .colab-df-convert:hover {\n",
              "      background-color: #E2EBFA;\n",
              "      box-shadow: 0px 1px 2px rgba(60, 64, 67, 0.3), 0px 1px 3px 1px rgba(60, 64, 67, 0.15);\n",
              "      fill: #174EA6;\n",
              "    }\n",
              "\n",
              "    [theme=dark] .colab-df-convert {\n",
              "      background-color: #3B4455;\n",
              "      fill: #D2E3FC;\n",
              "    }\n",
              "\n",
              "    [theme=dark] .colab-df-convert:hover {\n",
              "      background-color: #434B5C;\n",
              "      box-shadow: 0px 1px 3px 1px rgba(0, 0, 0, 0.15);\n",
              "      filter: drop-shadow(0px 1px 2px rgba(0, 0, 0, 0.3));\n",
              "      fill: #FFFFFF;\n",
              "    }\n",
              "  </style>\n",
              "\n",
              "      <script>\n",
              "        const buttonEl =\n",
              "          document.querySelector('#df-622ca164-646f-4f7e-825e-daf201d92b2f button.colab-df-convert');\n",
              "        buttonEl.style.display =\n",
              "          google.colab.kernel.accessAllowed ? 'block' : 'none';\n",
              "\n",
              "        async function convertToInteractive(key) {\n",
              "          const element = document.querySelector('#df-622ca164-646f-4f7e-825e-daf201d92b2f');\n",
              "          const dataTable =\n",
              "            await google.colab.kernel.invokeFunction('convertToInteractive',\n",
              "                                                     [key], {});\n",
              "          if (!dataTable) return;\n",
              "\n",
              "          const docLinkHtml = 'Like what you see? Visit the ' +\n",
              "            '<a target=\"_blank\" href=https://colab.research.google.com/notebooks/data_table.ipynb>data table notebook</a>'\n",
              "            + ' to learn more about interactive tables.';\n",
              "          element.innerHTML = '';\n",
              "          dataTable['output_type'] = 'display_data';\n",
              "          await google.colab.output.renderOutput(dataTable, element);\n",
              "          const docLink = document.createElement('div');\n",
              "          docLink.innerHTML = docLinkHtml;\n",
              "          element.appendChild(docLink);\n",
              "        }\n",
              "      </script>\n",
              "    </div>\n",
              "  </div>\n",
              "  "
            ]
          },
          "metadata": {},
          "execution_count": 44
        }
      ]
    },
    {
      "cell_type": "code",
      "source": [
        ""
      ],
      "metadata": {
        "id": "S4aPswQ7MF-N"
      },
      "execution_count": null,
      "outputs": []
    }
  ]
}