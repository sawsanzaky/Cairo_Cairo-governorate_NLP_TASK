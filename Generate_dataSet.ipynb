{
  "nbformat": 4,
  "nbformat_minor": 0,
  "metadata": {
    "colab": {
      "name": "Generate_dataSet",
      "provenance": [],
      "authorship_tag": "ABX9TyOaHjickD6fjYGr4a30leXD",
      "include_colab_link": true
    },
    "kernelspec": {
      "name": "python3",
      "display_name": "Python 3"
    },
    "language_info": {
      "name": "python"
    }
  },
  "cells": [
    {
      "cell_type": "markdown",
      "metadata": {
        "id": "view-in-github",
        "colab_type": "text"
      },
      "source": [
        "<a href=\"https://colab.research.google.com/github/sawsanzaky/Cairo_Cairo-governorate_NLP_TASK/blob/main/Generate_dataSet.ipynb\" target=\"_parent\"><img src=\"https://colab.research.google.com/assets/colab-badge.svg\" alt=\"Open In Colab\"/></a>"
      ]
    },
    {
      "cell_type": "markdown",
      "source": [
        "**Use API to Generate Dataset**"
      ],
      "metadata": {
        "id": "ehLmsKPDa61h"
      }
    },
    {
      "cell_type": "code",
      "source": [
        "import requests\n",
        "import pandas as pd\n",
        "import json\n",
        "from pandas import json_normalize\n"
      ],
      "metadata": {
        "id": "fs9FQ_Dz6daw"
      },
      "execution_count": 192,
      "outputs": []
    },
    {
      "cell_type": "code",
      "source": [
        "import numpy as np\n",
        "import pandas as pd \n",
        "\n",
        "cities= pd.read_fwf(\"Cairo.txt\",names=[\"Address\"])\n",
        "#cities.values\n"
      ],
      "metadata": {
        "id": "K-N8_v0TR8kU"
      },
      "execution_count": 204,
      "outputs": []
    },
    {
      "cell_type": "markdown",
      "source": [
        "**Cairo_districts**"
      ],
      "metadata": {
        "id": "f20A6HgR22Dp"
      }
    },
    {
      "cell_type": "markdown",
      "source": [
        "\n",
        "بولاق,الازبكية,باب الشعرية,الجمالية,الظاهر,الوايلى,حدائق القبة,الشرابية,شبرا,روض الفرج,الساحل,الزاوية الحمراء,الاميرية,الزيتون,المطرية,عين شمس,المرج,أول السلام,ثان السلام,النزهة,مصر الجديدة,أول مدينة نصر,ثان مدينة نصر,التجمع الخامس,أول القاهره الجديده,التجمع الاول,ثان القاهره الجديده,القطامية,ثالث القاهره الجديده,الشروق,مدينه بدر,التبين,حلوان,المعصرة,خمسة عشر مايو,طره,المعادى,البساتين,دار السلام,مصر القديمة,السيدة زينب,الخليفة,المقطم,منشأة ناصر,الدرب الاحمر,الموسكى,عابدين,قصر النيل,الزمالك"
      ],
      "metadata": {
        "id": "LXX47WM82FvE"
      }
    },
    {
      "cell_type": "code",
      "source": [
        "#base_site=\"https://places.ls.hereapi.com/places/v1/autosuggest?at=30.04,-31.2&q=cairo&apiKey=YdwX1rPlKcS4pifCTqpFBYpf1a2ADcdXTSmmmHiQ2aM\"\n",
        "#position': [30.04427, 31.23525"
      ],
      "metadata": {
        "id": "F98E1aODhlKQ"
      },
      "execution_count": null,
      "outputs": []
    },
    {
      "cell_type": "code",
      "source": [
        "base_site22=\" https://discover.search.hereapi.com/v1/discover?apiKey=YdwX1rPlKcS4pifCTqpFBYpf1a2ADcdXTSmmmHiQ2aM&at=30.04427,31.23525&q=[التجمع الخامس]&languages=ar-US\"\n",
        "base_site23=\" https://discover.search.hereapi.com/v1/discover?apiKey=YdwX1rPlKcS4pifCTqpFBYpf1a2ADcdXTSmmmHiQ2aM&at=30.04427,31.23525&q=[أول القاهره الجديده]&languages=ar-US\"\n",
        "base_site24=\" https://discover.search.hereapi.com/v1/discover?apiKey=YdwX1rPlKcS4pifCTqpFBYpf1a2ADcdXTSmmmHiQ2aM&at=30.04427,31.23525&q=[التجمع الاول]&languages=ar-US\"\n",
        "base_site25=\" https://discover.search.hereapi.com/v1/discover?apiKey=YdwX1rPlKcS4pifCTqpFBYpf1a2ADcdXTSmmmHiQ2aM&at=30.04427,31.23525&q=[ثان القاهره الجديده]&languages=ar-US\"\n",
        "base_site26=\" https://discover.search.hereapi.com/v1/discover?apiKey=YdwX1rPlKcS4pifCTqpFBYpf1a2ADcdXTSmmmHiQ2aM&at=30.04427,31.23525&q=[القطامية]&languages=ar-US\"\n",
        "base_site27=\" https://discover.search.hereapi.com/v1/discover?apiKey=YdwX1rPlKcS4pifCTqpFBYpf1a2ADcdXTSmmmHiQ2aM&at=30.04427,31.23525&q=[ثالث القاهره الجديده]&languages=ar-US\"\n",
        "base_site28=\" https://discover.search.hereapi.com/v1/discover?apiKey=YdwX1rPlKcS4pifCTqpFBYpf1a2ADcdXTSmmmHiQ2aM&at=30.04427,31.23525&q=[الشروق,مدينه بدر,التبين]&languages=ar-US\"\n",
        "base_site29=\" https://discover.search.hereapi.com/v1/discover?apiKey=YdwX1rPlKcS4pifCTqpFBYpf1a2ADcdXTSmmmHiQ2aM&at=30.04427,31.23525&q=[حلوان,المعصرة ]&languages=ar-US\"\n",
        "base_site30=\" https://discover.search.hereapi.com/v1/discover?apiKey=YdwX1rPlKcS4pifCTqpFBYpf1a2ADcdXTSmmmHiQ2aM&at=30.04427,31.23525&q=[الساحل]&languages=ar-US\"\n",
        "base_site31=\" https://discover.search.hereapi.com/v1/discover?apiKey=YdwX1rPlKcS4pifCTqpFBYpf1a2ADcdXTSmmmHiQ2aM&at=30.04427,31.23525&q=[الزاوية الحمراء]&languages=ar-US\"\n",
        "base_site32=\" https://discover.search.hereapi.com/v1/discover?apiKey=YdwX1rPlKcS4pifCTqpFBYpf1a2ADcdXTSmmmHiQ2aM&at=30.04427,31.23525&q=[طره,المعادى]&languages=ar-US\"\n",
        "base_site33=\" https://discover.search.hereapi.com/v1/discover?apiKey=YdwX1rPlKcS4pifCTqpFBYpf1a2ADcdXTSmmmHiQ2aM&at=30.04427,31.23525&q=[البساتين,دار السلام]&languages=ar-US\"\n",
        "base_site34=\" https://discover.search.hereapi.com/v1/discover?apiKey=YdwX1rPlKcS4pifCTqpFBYpf1a2ADcdXTSmmmHiQ2aM&at=30.04427,31.23525&q=[مصر القديمة]&languages=ar-US\"\n",
        "base_site35=\" https://discover.search.hereapi.com/v1/discover?apiKey=YdwX1rPlKcS4pifCTqpFBYpf1a2ADcdXTSmmmHiQ2aM&at=30.04427,31.23525&q=[السيدة زينب ]&languages=ar-US\"\n",
        "base_site36=\" https://discover.search.hereapi.com/v1/discover?apiKey=YdwX1rPlKcS4pifCTqpFBYpf1a2ADcdXTSmmmHiQ2aM&at=30.04427,31.23525&q=[الخليفة]&languages=ar-US\"\n",
        "base_site37=\" https://discover.search.hereapi.com/v1/discover?apiKey=YdwX1rPlKcS4pifCTqpFBYpf1a2ADcdXTSmmmHiQ2aM&at=30.04427,31.23525&q=[المقطم,منشأة ناصر]&languages=ar-US\"\n",
        "base_site38=\" https://discover.search.hereapi.com/v1/discover?apiKey=YdwX1rPlKcS4pifCTqpFBYpf1a2ADcdXTSmmmHiQ2aM&at=30.04427,31.23525&q=[الدرب الاحمر,الموسكى]&languages=ar-US\"\n",
        "base_site39=\" https://discover.search.hereapi.com/v1/discover?apiKey=YdwX1rPlKcS4pifCTqpFBYpf1a2ADcdXTSmmmHiQ2aM&at=30.04427,31.23525&q=[عابدين]&languages=ar-US\"\n",
        "base_site40=\" https://discover.search.hereapi.com/v1/discover?apiKey=YdwX1rPlKcS4pifCTqpFBYpf1a2ADcdXTSmmmHiQ2aM&at=30.04427,31.23525&q=[قصر النيل]&languages=ar-US\"\n",
        "base_site41=\" https://discover.search.hereapi.com/v1/discover?apiKey=YdwX1rPlKcS4pifCTqpFBYpf1a2ADcdXTSmmmHiQ2aM&at=30.04427,31.23525&q=[الزمالك]&languages=ar-US\"\n",
        "\n"
      ],
      "metadata": {
        "id": "nodTYAOFWt1d"
      },
      "execution_count": 289,
      "outputs": []
    },
    {
      "cell_type": "code",
      "source": [
        "base_site1=\" https://discover.search.hereapi.com/v1/discover?apiKey=YdwX1rPlKcS4pifCTqpFBYpf1a2ADcdXTSmmmHiQ2aM&at=30.04427,31.23525&q=[بولاق]&languages=ar-US\"\n",
        "base_site2=\" https://discover.search.hereapi.com/v1/discover?apiKey=YdwX1rPlKcS4pifCTqpFBYpf1a2ADcdXTSmmmHiQ2aM&at=30.04427,31.23525&q=[الازبكية]&languages=ar-US\"\n",
        "base_site3=\" https://discover.search.hereapi.com/v1/discover?apiKey=YdwX1rPlKcS4pifCTqpFBYpf1a2ADcdXTSmmmHiQ2aM&at=30.04427,31.23525&q=[باب الشعرية]&languages=ar-US\"\n",
        "base_site4=\" https://discover.search.hereapi.com/v1/discover?apiKey=YdwX1rPlKcS4pifCTqpFBYpf1a2ADcdXTSmmmHiQ2aM&at=30.04427,31.23525&q=[الجمالية]&languages=ar-US\"\n",
        "base_site5=\" https://discover.search.hereapi.com/v1/discover?apiKey=YdwX1rPlKcS4pifCTqpFBYpf1a2ADcdXTSmmmHiQ2aM&at=30.04427,31.23525&q=[الظاهر,الوايلى]&languages=ar-US\"\n",
        "base_site6=\" https://discover.search.hereapi.com/v1/discover?apiKey=YdwX1rPlKcS4pifCTqpFBYpf1a2ADcdXTSmmmHiQ2aM&at=30.04427,31.23525&q=[حدائق القبةا]&languages=ar-US\"\n",
        "base_site7=\" https://discover.search.hereapi.com/v1/discover?apiKey=YdwX1rPlKcS4pifCTqpFBYpf1a2ADcdXTSmmmHiQ2aM&at=30.04427,31.23525&q=[شبرا]&languages=ar-US\"\n",
        "base_site8=\" https://discover.search.hereapi.com/v1/discover?apiKey=YdwX1rPlKcS4pifCTqpFBYpf1a2ADcdXTSmmmHiQ2aM&at=30.04427,31.23525&q=[الشرابية]&languages=ar-US\"\n",
        "base_site9=\" https://discover.search.hereapi.com/v1/discover?apiKey=YdwX1rPlKcS4pifCTqpFBYpf1a2ADcdXTSmmmHiQ2aM&at=30.04427,31.23525&q=[روض الفرج]&languages=ar-US\"\n",
        "base_site10=\" https://discover.search.hereapi.com/v1/discover?apiKey=YdwX1rPlKcS4pifCTqpFBYpf1a2ADcdXTSmmmHiQ2aM&at=30.04427,31.23525&q=[الساحل]&languages=ar-US\"\n",
        "base_site11=\" https://discover.search.hereapi.com/v1/discover?apiKey=YdwX1rPlKcS4pifCTqpFBYpf1a2ADcdXTSmmmHiQ2aM&at=30.04427,31.23525&q=[الزاوية الحمراء]&languages=ar-US\"\n",
        "base_site12=\" https://discover.search.hereapi.com/v1/discover?apiKey=YdwX1rPlKcS4pifCTqpFBYpf1a2ADcdXTSmmmHiQ2aM&at=30.04427,31.23525&q=[الاميرية]&languages=ar-US\"\n",
        "base_site13=\" https://discover.search.hereapi.com/v1/discover?apiKey=YdwX1rPlKcS4pifCTqpFBYpf1a2ADcdXTSmmmHiQ2aM&at=30.04427,31.23525&q=[الزيتون]&languages=ar-US\"\n",
        "base_site14=\" https://discover.search.hereapi.com/v1/discover?apiKey=YdwX1rPlKcS4pifCTqpFBYpf1a2ADcdXTSmmmHiQ2aM&at=30.04427,31.23525&q=[المطرية]&languages=ar-US\"\n",
        "base_site15=\" https://discover.search.hereapi.com/v1/discover?apiKey=YdwX1rPlKcS4pifCTqpFBYpf1a2ADcdXTSmmmHiQ2aM&at=30.04427,31.23525&q=[عين شمس]&languages=ar-US\"\n",
        "base_site16=\" https://discover.search.hereapi.com/v1/discover?apiKey=YdwX1rPlKcS4pifCTqpFBYpf1a2ADcdXTSmmmHiQ2aM&at=30.04427,31.23525&q=[المرج]&languages=ar-US\"\n",
        "base_site17=\" https://discover.search.hereapi.com/v1/discover?apiKey=YdwX1rPlKcS4pifCTqpFBYpf1a2ADcdXTSmmmHiQ2aM&at=30.04427,31.23525&q=[أول السلام]&languages=ar-US\"\n",
        "base_site18=\" https://discover.search.hereapi.com/v1/discover?apiKey=YdwX1rPlKcS4pifCTqpFBYpf1a2ADcdXTSmmmHiQ2aM&at=30.04427,31.23525&q=[ثان السلام ]&languages=ar-US\"\n",
        "base_site19=\" https://discover.search.hereapi.com/v1/discover?apiKey=YdwX1rPlKcS4pifCTqpFBYpf1a2ADcdXTSmmmHiQ2aM&at=30.04427,31.23525&q=[النزهة]&languages=ar-US\"\n",
        "base_site20=\" https://discover.search.hereapi.com/v1/discover?apiKey=YdwX1rPlKcS4pifCTqpFBYpf1a2ADcdXTSmmmHiQ2aM&at=30.04427,31.23525&q=[أول مدينة نصر]&languages=ar-US\"\n",
        "base_site21=\" https://discover.search.hereapi.com/v1/discover?apiKey=YdwX1rPlKcS4pifCTqpFBYpf1a2ADcdXTSmmmHiQ2aM&at=30.04427,31.23525&q=[ثان مدينة نصر]&languages=ar-US\"\n",
        "\n"
      ],
      "metadata": {
        "id": "DDR0H-dtQP9Z"
      },
      "execution_count": 286,
      "outputs": []
    },
    {
      "cell_type": "code",
      "source": [
        "text1=requests.get(url=base_site1)\n",
        "text2=requests.get(url=base_site2)\n",
        "text3=requests.get(url=base_site3)\n",
        "text4=requests.get(url=base_site4)\n",
        "text5=requests.get(url=base_site5)\n",
        "text6=requests.get(url=base_site6)\n",
        "text7=requests.get(url=base_site7)\n",
        "text8=requests.get(url=base_site8)\n",
        "text9=requests.get(url=base_site9)\n",
        "text10=requests.get(url=base_site10)\n",
        "text11=requests.get(url=base_site11)\n",
        "text12=requests.get(url=base_site12)\n",
        "text13=requests.get(url=base_site13)\n",
        "text14=requests.get(url=base_site14)\n",
        "text15=requests.get(url=base_site15)\n",
        "text16=requests.get(url=base_site16)\n",
        "text17=requests.get(url=base_site17)\n",
        "text18=requests.get(url=base_site18)\n",
        "text19=requests.get(url=base_site19)\n",
        "text20=requests.get(url=base_site20)\n",
        "text21=requests.get(url=base_site21)\n",
        "text22=requests.get(url=base_site22)\n",
        "text23=requests.get(url=base_site23)\n",
        "text24=requests.get(url=base_site24)\n",
        "text25=requests.get(url=base_site25)\n",
        "text26=requests.get(url=base_site26)\n",
        "text27=requests.get(url=base_site27)\n",
        "text28=requests.get(url=base_site28)\n",
        "text29=requests.get(url=base_site29)\n",
        "text30=requests.get(url=base_site30)\n",
        "text31=requests.get(url=base_site31)\n",
        "text32=requests.get(url=base_site32)\n",
        "text33=requests.get(url=base_site33)\n",
        "text34=requests.get(url=base_site34)\n",
        "text35=requests.get(url=base_site35)\n",
        "text36=requests.get(url=base_site36)\n",
        "text37=requests.get(url=base_site37)\n",
        "text38=requests.get(url=base_site38)\n",
        "text39=requests.get(url=base_site39)\n",
        "text40=requests.get(url=base_site40)\n",
        "\n",
        "\n"
      ],
      "metadata": {
        "id": "5diyuvQhQXni"
      },
      "execution_count": 290,
      "outputs": []
    },
    {
      "cell_type": "code",
      "source": [
        "text1"
      ],
      "metadata": {
        "colab": {
          "base_uri": "https://localhost:8080/"
        },
        "id": "KK7aLNz2QkqE",
        "outputId": "38e98266-4872-490c-8e32-92e764640ea2"
      },
      "execution_count": 279,
      "outputs": [
        {
          "output_type": "execute_result",
          "data": {
            "text/plain": [
              "<Response [200]>"
            ]
          },
          "metadata": {},
          "execution_count": 279
        }
      ]
    },
    {
      "cell_type": "code",
      "source": [
        "#text.json()"
      ],
      "metadata": {
        "id": "RhdHDdExQ7dA"
      },
      "execution_count": 280,
      "outputs": []
    },
    {
      "cell_type": "code",
      "source": [
        "# Use json_normalize() to convert JSON to DataFrame\n",
        "dict1 = text.json()\n",
        "df1 = json_normalize(dict['items']) \n",
        "df1['address.label']\n",
        "#df1.count()"
      ],
      "metadata": {
        "colab": {
          "base_uri": "https://localhost:8080/"
        },
        "id": "qkhv5aAvss9O",
        "outputId": "f4b5e29a-936f-48d8-cd5b-bd11fa35a6f9"
      },
      "execution_count": 285,
      "outputs": [
        {
          "output_type": "execute_result",
          "data": {
            "text/plain": [
              "0    قسم مدينة نصر ثان, شارع محمود طه, القاهرة, الق...\n",
              "1                            مدينة نصر 2, القاهرة, مصر\n",
              "2    قسم الشرطة ثانى مدينة نصر, شارع علي امين, القا...\n",
              "3         مدينة نصر, طريق النصر, القاهرة, القاهرة, مصر\n",
              "4                            مدينة نصر 1, القاهرة, مصر\n",
              "5    مدينة نصر, شارع عبد المنعم سند, القاهرة, القاه...\n",
              "Name: address.label, dtype: object"
            ]
          },
          "metadata": {},
          "execution_count": 285
        }
      ]
    },
    {
      "cell_type": "code",
      "source": [
        "dict1 = text1.json()\n",
        "df1 = json_normalize(dict['items']) \n",
        "\n",
        "dict2 = text1.json()\n",
        "df2 = json_normalize(dict['items']) \n",
        "\n",
        "dict3 = text1.json()\n",
        "df3 = json_normalize(dict['items']) \n",
        "dict4 = text1.json()\n",
        "df4 = json_normalize(dict['items']) \n",
        "\n",
        "dict5 = text1.json()\n",
        "df5= json_normalize(dict['items']) \n",
        "\n",
        "dict6 = text1.json()\n",
        "df6 = json_normalize(dict['items']) \n",
        "\n",
        "dict7 = text1.json()\n",
        "df7 = json_normalize(dict['items']) \n",
        "\n",
        "dict8 = text1.json()\n",
        "df8 = json_normalize(dict['items']) \n",
        "\n",
        "dict9 = text1.json()\n",
        "df9 = json_normalize(dict['items']) \n",
        "\n",
        "dict10 = text1.json()\n",
        "df10 = json_normalize(dict['items']) \n",
        "\n"
      ],
      "metadata": {
        "id": "QoMWTZIk2Gb4"
      },
      "execution_count": 291,
      "outputs": []
    },
    {
      "cell_type": "code",
      "source": [
        "dict11 = text1.json()\n",
        "df11 = json_normalize(dict['items']) \n",
        "\n",
        "dict12 = text1.json()\n",
        "df12 = json_normalize(dict['items']) \n",
        "\n",
        "dict13 = text1.json()\n",
        "df13 = json_normalize(dict['items']) \n",
        "dict14 = text1.json()\n",
        "df14 = json_normalize(dict['items']) \n",
        "\n",
        "dict15 = text1.json()\n",
        "df15= json_normalize(dict['items']) \n",
        "\n",
        "dict16 = text1.json()\n",
        "df16 = json_normalize(dict['items']) \n",
        "\n",
        "dict17 = text1.json()\n",
        "df17 = json_normalize(dict['items']) \n",
        "\n",
        "dict18 = text1.json()\n",
        "df18 = json_normalize(dict['items']) \n",
        "\n",
        "dict19 = text1.json()\n",
        "df19 = json_normalize(dict['items']) \n",
        "\n",
        "dict20 = text1.json()\n",
        "df20 = json_normalize(dict['items']) \n",
        "\n"
      ],
      "metadata": {
        "id": "6TUAhnOIdEIM"
      },
      "execution_count": 292,
      "outputs": []
    },
    {
      "cell_type": "code",
      "source": [
        "dict21 = text1.json()\n",
        "df21 = json_normalize(dict['items']) \n",
        "\n",
        "dict22 = text1.json()\n",
        "df22 = json_normalize(dict['items']) \n",
        "\n",
        "dict23 = text1.json()\n",
        "df23 = json_normalize(dict['items']) \n",
        "dict24 = text1.json()\n",
        "df24 = json_normalize(dict['items']) \n",
        "\n",
        "dict25 = text1.json()\n",
        "df25= json_normalize(dict['items']) \n",
        "\n",
        "dict26 = text1.json()\n",
        "df26 = json_normalize(dict['items']) \n",
        "\n",
        "dict27 = text1.json()\n",
        "df27 = json_normalize(dict['items']) \n",
        "\n",
        "dict28 = text1.json()\n",
        "df28 = json_normalize(dict['items']) \n",
        "\n",
        "dict29 = text1.json()\n",
        "df29 = json_normalize(dict['items']) \n",
        "\n",
        "dict30 = text1.json()\n",
        "df30 = json_normalize(dict['items']) \n",
        "\n"
      ],
      "metadata": {
        "id": "veF3uFNudVeJ"
      },
      "execution_count": 293,
      "outputs": []
    },
    {
      "cell_type": "code",
      "source": [
        "dict31 = text1.json()\n",
        "df31 = json_normalize(dict['items']) \n",
        "\n",
        "dict32 = text1.json()\n",
        "df32 = json_normalize(dict['items']) \n",
        "\n",
        "dict33 = text1.json()\n",
        "df33 = json_normalize(dict['items']) \n",
        "dict34 = text1.json()\n",
        "df34 = json_normalize(dict['items']) \n",
        "\n",
        "dict35 = text1.json()\n",
        "df35= json_normalize(dict['items']) \n",
        "\n",
        "dict36 = text1.json()\n",
        "df36 = json_normalize(dict['items']) \n",
        "\n",
        "dict37 = text1.json()\n",
        "df37 = json_normalize(dict['items']) \n",
        "\n",
        "dict38 = text1.json()\n",
        "df38 = json_normalize(dict['items']) \n",
        "\n",
        "dict39 = text1.json()\n",
        "df39 = json_normalize(dict['items']) \n",
        "\n",
        "dict40 = text1.json()\n",
        "df40 = json_normalize(dict['items']) \n",
        "\n",
        "df40.head()"
      ],
      "metadata": {
        "id": "6e7PS3TDdr8o",
        "outputId": "c8d87aea-d971-466b-f20a-7269fc7fe7aa",
        "colab": {
          "base_uri": "https://localhost:8080/",
          "height": 577
        }
      },
      "execution_count": 315,
      "outputs": [
        {
          "output_type": "execute_result",
          "data": {
            "text/plain": [
              "                       title  \\\n",
              "0          قسم مدينة نصر ثان   \n",
              "1  مدينة نصر 2, القاهرة, مصر   \n",
              "2  قسم الشرطة ثانى مدينة نصر   \n",
              "3                  مدينة نصر   \n",
              "4  مدينة نصر 1, القاهرة, مصر   \n",
              "\n",
              "                                                  id language resultType  \\\n",
              "0  here:pds:place:818jx7ps-487e0834f25a035fa5df6a...       ar      place   \n",
              "1                        here:cm:namedplace:23893249       ar   locality   \n",
              "2  here:pds:place:818jx7ps-f40882fd1ef60dcc5742fe...       ar      place   \n",
              "3  here:pds:place:818stq70-e03c97ec88174ec2b1b7bd...       ar      place   \n",
              "4                        here:cm:namedplace:23893250       ar   locality   \n",
              "\n",
              "                                 access  distance  \\\n",
              "0  [{'lat': 30.07705, 'lng': 31.23685}]      3657   \n",
              "1                                   NaN      7065   \n",
              "2  [{'lat': 30.05053, 'lng': 31.31248}]      7466   \n",
              "3  [{'lat': 30.05894, 'lng': 31.30343}]      6752   \n",
              "4                                   NaN     10928   \n",
              "\n",
              "                                          categories  \\\n",
              "0  [{'id': '800-8100-0171', 'name': 'مقر حكومي', ...   \n",
              "1                                                NaN   \n",
              "2  [{'id': '700-7300-0111', 'name': 'قسم الشرطة',...   \n",
              "3  [{'id': '600-6500-0072', 'name': 'متجر أجهزة إ...   \n",
              "4                                                NaN   \n",
              "\n",
              "                                          references  \\\n",
              "0  [{'supplier': {'id': 'core'}, 'id': '111076939...   \n",
              "1                                                NaN   \n",
              "2  [{'supplier': {'id': 'core'}, 'id': '111057701...   \n",
              "3  [{'supplier': {'id': 'core'}, 'id': '104931818...   \n",
              "4                                                NaN   \n",
              "\n",
              "                                   contacts  \\\n",
              "0  [{'phone': [{'value': '+20222619756'}]}]   \n",
              "1                                       NaN   \n",
              "2                                       NaN   \n",
              "3                                       NaN   \n",
              "4                                       NaN   \n",
              "\n",
              "                                       address.label  ... address.city  \\\n",
              "0  قسم مدينة نصر ثان, شارع محمود طه, القاهرة, الق...  ...      القاهرة   \n",
              "1                          مدينة نصر 2, القاهرة, مصر  ...      القاهرة   \n",
              "2  قسم الشرطة ثانى مدينة نصر, شارع علي امين, القا...  ...      القاهرة   \n",
              "3       مدينة نصر, طريق النصر, القاهرة, القاهرة, مصر  ...      القاهرة   \n",
              "4                          مدينة نصر 1, القاهرة, مصر  ...      القاهرة   \n",
              "\n",
              "  address.district address.street position.lat position.lng localityType  \\\n",
              "0        روض الفرج  شارع محمود طه     30.07713     31.23692          NaN   \n",
              "1      مدينة نصر 2            NaN     30.05621     31.30735     district   \n",
              "2      مدينة نصر 2  شارع علي امين     30.05053     31.31248          NaN   \n",
              "3      مدينة نصر 2     طريق النصر     30.05923     31.30324          NaN   \n",
              "4      مدينة نصر 1            NaN     30.06959     31.34496     district   \n",
              "\n",
              "   mapView.west  mapView.south mapView.east  mapView.north  \n",
              "0           NaN            NaN          NaN            NaN  \n",
              "1      31.28020       30.01990     31.35731       30.07791  \n",
              "2           NaN            NaN          NaN            NaN  \n",
              "3           NaN            NaN          NaN            NaN  \n",
              "4      31.30491       29.97717     31.43477       30.08670  \n",
              "\n",
              "[5 rows x 23 columns]"
            ],
            "text/html": [
              "\n",
              "  <div id=\"df-447fe560-d8be-40de-8010-98290ad3e6b8\">\n",
              "    <div class=\"colab-df-container\">\n",
              "      <div>\n",
              "<style scoped>\n",
              "    .dataframe tbody tr th:only-of-type {\n",
              "        vertical-align: middle;\n",
              "    }\n",
              "\n",
              "    .dataframe tbody tr th {\n",
              "        vertical-align: top;\n",
              "    }\n",
              "\n",
              "    .dataframe thead th {\n",
              "        text-align: right;\n",
              "    }\n",
              "</style>\n",
              "<table border=\"1\" class=\"dataframe\">\n",
              "  <thead>\n",
              "    <tr style=\"text-align: right;\">\n",
              "      <th></th>\n",
              "      <th>title</th>\n",
              "      <th>id</th>\n",
              "      <th>language</th>\n",
              "      <th>resultType</th>\n",
              "      <th>access</th>\n",
              "      <th>distance</th>\n",
              "      <th>categories</th>\n",
              "      <th>references</th>\n",
              "      <th>contacts</th>\n",
              "      <th>address.label</th>\n",
              "      <th>...</th>\n",
              "      <th>address.city</th>\n",
              "      <th>address.district</th>\n",
              "      <th>address.street</th>\n",
              "      <th>position.lat</th>\n",
              "      <th>position.lng</th>\n",
              "      <th>localityType</th>\n",
              "      <th>mapView.west</th>\n",
              "      <th>mapView.south</th>\n",
              "      <th>mapView.east</th>\n",
              "      <th>mapView.north</th>\n",
              "    </tr>\n",
              "  </thead>\n",
              "  <tbody>\n",
              "    <tr>\n",
              "      <th>0</th>\n",
              "      <td>قسم مدينة نصر ثان</td>\n",
              "      <td>here:pds:place:818jx7ps-487e0834f25a035fa5df6a...</td>\n",
              "      <td>ar</td>\n",
              "      <td>place</td>\n",
              "      <td>[{'lat': 30.07705, 'lng': 31.23685}]</td>\n",
              "      <td>3657</td>\n",
              "      <td>[{'id': '800-8100-0171', 'name': 'مقر حكومي', ...</td>\n",
              "      <td>[{'supplier': {'id': 'core'}, 'id': '111076939...</td>\n",
              "      <td>[{'phone': [{'value': '+20222619756'}]}]</td>\n",
              "      <td>قسم مدينة نصر ثان, شارع محمود طه, القاهرة, الق...</td>\n",
              "      <td>...</td>\n",
              "      <td>القاهرة</td>\n",
              "      <td>روض الفرج</td>\n",
              "      <td>شارع محمود طه</td>\n",
              "      <td>30.07713</td>\n",
              "      <td>31.23692</td>\n",
              "      <td>NaN</td>\n",
              "      <td>NaN</td>\n",
              "      <td>NaN</td>\n",
              "      <td>NaN</td>\n",
              "      <td>NaN</td>\n",
              "    </tr>\n",
              "    <tr>\n",
              "      <th>1</th>\n",
              "      <td>مدينة نصر 2, القاهرة, مصر</td>\n",
              "      <td>here:cm:namedplace:23893249</td>\n",
              "      <td>ar</td>\n",
              "      <td>locality</td>\n",
              "      <td>NaN</td>\n",
              "      <td>7065</td>\n",
              "      <td>NaN</td>\n",
              "      <td>NaN</td>\n",
              "      <td>NaN</td>\n",
              "      <td>مدينة نصر 2, القاهرة, مصر</td>\n",
              "      <td>...</td>\n",
              "      <td>القاهرة</td>\n",
              "      <td>مدينة نصر 2</td>\n",
              "      <td>NaN</td>\n",
              "      <td>30.05621</td>\n",
              "      <td>31.30735</td>\n",
              "      <td>district</td>\n",
              "      <td>31.28020</td>\n",
              "      <td>30.01990</td>\n",
              "      <td>31.35731</td>\n",
              "      <td>30.07791</td>\n",
              "    </tr>\n",
              "    <tr>\n",
              "      <th>2</th>\n",
              "      <td>قسم الشرطة ثانى مدينة نصر</td>\n",
              "      <td>here:pds:place:818jx7ps-f40882fd1ef60dcc5742fe...</td>\n",
              "      <td>ar</td>\n",
              "      <td>place</td>\n",
              "      <td>[{'lat': 30.05053, 'lng': 31.31248}]</td>\n",
              "      <td>7466</td>\n",
              "      <td>[{'id': '700-7300-0111', 'name': 'قسم الشرطة',...</td>\n",
              "      <td>[{'supplier': {'id': 'core'}, 'id': '111057701...</td>\n",
              "      <td>NaN</td>\n",
              "      <td>قسم الشرطة ثانى مدينة نصر, شارع علي امين, القا...</td>\n",
              "      <td>...</td>\n",
              "      <td>القاهرة</td>\n",
              "      <td>مدينة نصر 2</td>\n",
              "      <td>شارع علي امين</td>\n",
              "      <td>30.05053</td>\n",
              "      <td>31.31248</td>\n",
              "      <td>NaN</td>\n",
              "      <td>NaN</td>\n",
              "      <td>NaN</td>\n",
              "      <td>NaN</td>\n",
              "      <td>NaN</td>\n",
              "    </tr>\n",
              "    <tr>\n",
              "      <th>3</th>\n",
              "      <td>مدينة نصر</td>\n",
              "      <td>here:pds:place:818stq70-e03c97ec88174ec2b1b7bd...</td>\n",
              "      <td>ar</td>\n",
              "      <td>place</td>\n",
              "      <td>[{'lat': 30.05894, 'lng': 31.30343}]</td>\n",
              "      <td>6752</td>\n",
              "      <td>[{'id': '600-6500-0072', 'name': 'متجر أجهزة إ...</td>\n",
              "      <td>[{'supplier': {'id': 'core'}, 'id': '104931818...</td>\n",
              "      <td>NaN</td>\n",
              "      <td>مدينة نصر, طريق النصر, القاهرة, القاهرة, مصر</td>\n",
              "      <td>...</td>\n",
              "      <td>القاهرة</td>\n",
              "      <td>مدينة نصر 2</td>\n",
              "      <td>طريق النصر</td>\n",
              "      <td>30.05923</td>\n",
              "      <td>31.30324</td>\n",
              "      <td>NaN</td>\n",
              "      <td>NaN</td>\n",
              "      <td>NaN</td>\n",
              "      <td>NaN</td>\n",
              "      <td>NaN</td>\n",
              "    </tr>\n",
              "    <tr>\n",
              "      <th>4</th>\n",
              "      <td>مدينة نصر 1, القاهرة, مصر</td>\n",
              "      <td>here:cm:namedplace:23893250</td>\n",
              "      <td>ar</td>\n",
              "      <td>locality</td>\n",
              "      <td>NaN</td>\n",
              "      <td>10928</td>\n",
              "      <td>NaN</td>\n",
              "      <td>NaN</td>\n",
              "      <td>NaN</td>\n",
              "      <td>مدينة نصر 1, القاهرة, مصر</td>\n",
              "      <td>...</td>\n",
              "      <td>القاهرة</td>\n",
              "      <td>مدينة نصر 1</td>\n",
              "      <td>NaN</td>\n",
              "      <td>30.06959</td>\n",
              "      <td>31.34496</td>\n",
              "      <td>district</td>\n",
              "      <td>31.30491</td>\n",
              "      <td>29.97717</td>\n",
              "      <td>31.43477</td>\n",
              "      <td>30.08670</td>\n",
              "    </tr>\n",
              "  </tbody>\n",
              "</table>\n",
              "<p>5 rows × 23 columns</p>\n",
              "</div>\n",
              "      <button class=\"colab-df-convert\" onclick=\"convertToInteractive('df-447fe560-d8be-40de-8010-98290ad3e6b8')\"\n",
              "              title=\"Convert this dataframe to an interactive table.\"\n",
              "              style=\"display:none;\">\n",
              "        \n",
              "  <svg xmlns=\"http://www.w3.org/2000/svg\" height=\"24px\"viewBox=\"0 0 24 24\"\n",
              "       width=\"24px\">\n",
              "    <path d=\"M0 0h24v24H0V0z\" fill=\"none\"/>\n",
              "    <path d=\"M18.56 5.44l.94 2.06.94-2.06 2.06-.94-2.06-.94-.94-2.06-.94 2.06-2.06.94zm-11 1L8.5 8.5l.94-2.06 2.06-.94-2.06-.94L8.5 2.5l-.94 2.06-2.06.94zm10 10l.94 2.06.94-2.06 2.06-.94-2.06-.94-.94-2.06-.94 2.06-2.06.94z\"/><path d=\"M17.41 7.96l-1.37-1.37c-.4-.4-.92-.59-1.43-.59-.52 0-1.04.2-1.43.59L10.3 9.45l-7.72 7.72c-.78.78-.78 2.05 0 2.83L4 21.41c.39.39.9.59 1.41.59.51 0 1.02-.2 1.41-.59l7.78-7.78 2.81-2.81c.8-.78.8-2.07 0-2.86zM5.41 20L4 18.59l7.72-7.72 1.47 1.35L5.41 20z\"/>\n",
              "  </svg>\n",
              "      </button>\n",
              "      \n",
              "  <style>\n",
              "    .colab-df-container {\n",
              "      display:flex;\n",
              "      flex-wrap:wrap;\n",
              "      gap: 12px;\n",
              "    }\n",
              "\n",
              "    .colab-df-convert {\n",
              "      background-color: #E8F0FE;\n",
              "      border: none;\n",
              "      border-radius: 50%;\n",
              "      cursor: pointer;\n",
              "      display: none;\n",
              "      fill: #1967D2;\n",
              "      height: 32px;\n",
              "      padding: 0 0 0 0;\n",
              "      width: 32px;\n",
              "    }\n",
              "\n",
              "    .colab-df-convert:hover {\n",
              "      background-color: #E2EBFA;\n",
              "      box-shadow: 0px 1px 2px rgba(60, 64, 67, 0.3), 0px 1px 3px 1px rgba(60, 64, 67, 0.15);\n",
              "      fill: #174EA6;\n",
              "    }\n",
              "\n",
              "    [theme=dark] .colab-df-convert {\n",
              "      background-color: #3B4455;\n",
              "      fill: #D2E3FC;\n",
              "    }\n",
              "\n",
              "    [theme=dark] .colab-df-convert:hover {\n",
              "      background-color: #434B5C;\n",
              "      box-shadow: 0px 1px 3px 1px rgba(0, 0, 0, 0.15);\n",
              "      filter: drop-shadow(0px 1px 2px rgba(0, 0, 0, 0.3));\n",
              "      fill: #FFFFFF;\n",
              "    }\n",
              "  </style>\n",
              "\n",
              "      <script>\n",
              "        const buttonEl =\n",
              "          document.querySelector('#df-447fe560-d8be-40de-8010-98290ad3e6b8 button.colab-df-convert');\n",
              "        buttonEl.style.display =\n",
              "          google.colab.kernel.accessAllowed ? 'block' : 'none';\n",
              "\n",
              "        async function convertToInteractive(key) {\n",
              "          const element = document.querySelector('#df-447fe560-d8be-40de-8010-98290ad3e6b8');\n",
              "          const dataTable =\n",
              "            await google.colab.kernel.invokeFunction('convertToInteractive',\n",
              "                                                     [key], {});\n",
              "          if (!dataTable) return;\n",
              "\n",
              "          const docLinkHtml = 'Like what you see? Visit the ' +\n",
              "            '<a target=\"_blank\" href=https://colab.research.google.com/notebooks/data_table.ipynb>data table notebook</a>'\n",
              "            + ' to learn more about interactive tables.';\n",
              "          element.innerHTML = '';\n",
              "          dataTable['output_type'] = 'display_data';\n",
              "          await google.colab.output.renderOutput(dataTable, element);\n",
              "          const docLink = document.createElement('div');\n",
              "          docLink.innerHTML = docLinkHtml;\n",
              "          element.appendChild(docLink);\n",
              "        }\n",
              "      </script>\n",
              "    </div>\n",
              "  </div>\n",
              "  "
            ]
          },
          "metadata": {},
          "execution_count": 315
        }
      ]
    },
    {
      "cell_type": "code",
      "source": [
        "data =df1.append([df2, df3,df4,df5,df6,df7,df8,df9,df10,df11,df12,df13,df14,df15,df16,df17,df18,df19,df20,df22, df23,df24,df25,df26,df27,df28,df29,df30,df31,df32,df33,df34,df35,df36,df37,df38,df39,df40])"
      ],
      "metadata": {
        "id": "rbkFFjt3d9Nu"
      },
      "execution_count": 295,
      "outputs": []
    },
    {
      "cell_type": "code",
      "source": [
        "data.head(1)"
      ],
      "metadata": {
        "id": "Y6cTt0Lqfxg3",
        "outputId": "4a562085-03a4-41d8-f4e9-ca1c86221538",
        "colab": {
          "base_uri": "https://localhost:8080/",
          "height": 226
        }
      },
      "execution_count": 299,
      "outputs": [
        {
          "output_type": "execute_result",
          "data": {
            "text/plain": [
              "               title                                                 id  \\\n",
              "0  قسم مدينة نصر ثان  here:pds:place:818jx7ps-487e0834f25a035fa5df6a...   \n",
              "\n",
              "  language resultType                                access  distance  \\\n",
              "0       ar      place  [{'lat': 30.07705, 'lng': 31.23685}]      3657   \n",
              "\n",
              "                                          categories  \\\n",
              "0  [{'id': '800-8100-0171', 'name': 'مقر حكومي', ...   \n",
              "\n",
              "                                          references  \\\n",
              "0  [{'supplier': {'id': 'core'}, 'id': '111076939...   \n",
              "\n",
              "                                   contacts  \\\n",
              "0  [{'phone': [{'value': '+20222619756'}]}]   \n",
              "\n",
              "                                       address.label  ... address.city  \\\n",
              "0  قسم مدينة نصر ثان, شارع محمود طه, القاهرة, الق...  ...      القاهرة   \n",
              "\n",
              "  address.district address.street position.lat position.lng localityType  \\\n",
              "0        روض الفرج  شارع محمود طه     30.07713     31.23692          NaN   \n",
              "\n",
              "   mapView.west  mapView.south mapView.east  mapView.north  \n",
              "0           NaN            NaN          NaN            NaN  \n",
              "\n",
              "[1 rows x 23 columns]"
            ],
            "text/html": [
              "\n",
              "  <div id=\"df-62dba64f-3576-462d-a0b2-6a5091b795c5\">\n",
              "    <div class=\"colab-df-container\">\n",
              "      <div>\n",
              "<style scoped>\n",
              "    .dataframe tbody tr th:only-of-type {\n",
              "        vertical-align: middle;\n",
              "    }\n",
              "\n",
              "    .dataframe tbody tr th {\n",
              "        vertical-align: top;\n",
              "    }\n",
              "\n",
              "    .dataframe thead th {\n",
              "        text-align: right;\n",
              "    }\n",
              "</style>\n",
              "<table border=\"1\" class=\"dataframe\">\n",
              "  <thead>\n",
              "    <tr style=\"text-align: right;\">\n",
              "      <th></th>\n",
              "      <th>title</th>\n",
              "      <th>id</th>\n",
              "      <th>language</th>\n",
              "      <th>resultType</th>\n",
              "      <th>access</th>\n",
              "      <th>distance</th>\n",
              "      <th>categories</th>\n",
              "      <th>references</th>\n",
              "      <th>contacts</th>\n",
              "      <th>address.label</th>\n",
              "      <th>...</th>\n",
              "      <th>address.city</th>\n",
              "      <th>address.district</th>\n",
              "      <th>address.street</th>\n",
              "      <th>position.lat</th>\n",
              "      <th>position.lng</th>\n",
              "      <th>localityType</th>\n",
              "      <th>mapView.west</th>\n",
              "      <th>mapView.south</th>\n",
              "      <th>mapView.east</th>\n",
              "      <th>mapView.north</th>\n",
              "    </tr>\n",
              "  </thead>\n",
              "  <tbody>\n",
              "    <tr>\n",
              "      <th>0</th>\n",
              "      <td>قسم مدينة نصر ثان</td>\n",
              "      <td>here:pds:place:818jx7ps-487e0834f25a035fa5df6a...</td>\n",
              "      <td>ar</td>\n",
              "      <td>place</td>\n",
              "      <td>[{'lat': 30.07705, 'lng': 31.23685}]</td>\n",
              "      <td>3657</td>\n",
              "      <td>[{'id': '800-8100-0171', 'name': 'مقر حكومي', ...</td>\n",
              "      <td>[{'supplier': {'id': 'core'}, 'id': '111076939...</td>\n",
              "      <td>[{'phone': [{'value': '+20222619756'}]}]</td>\n",
              "      <td>قسم مدينة نصر ثان, شارع محمود طه, القاهرة, الق...</td>\n",
              "      <td>...</td>\n",
              "      <td>القاهرة</td>\n",
              "      <td>روض الفرج</td>\n",
              "      <td>شارع محمود طه</td>\n",
              "      <td>30.07713</td>\n",
              "      <td>31.23692</td>\n",
              "      <td>NaN</td>\n",
              "      <td>NaN</td>\n",
              "      <td>NaN</td>\n",
              "      <td>NaN</td>\n",
              "      <td>NaN</td>\n",
              "    </tr>\n",
              "  </tbody>\n",
              "</table>\n",
              "<p>1 rows × 23 columns</p>\n",
              "</div>\n",
              "      <button class=\"colab-df-convert\" onclick=\"convertToInteractive('df-62dba64f-3576-462d-a0b2-6a5091b795c5')\"\n",
              "              title=\"Convert this dataframe to an interactive table.\"\n",
              "              style=\"display:none;\">\n",
              "        \n",
              "  <svg xmlns=\"http://www.w3.org/2000/svg\" height=\"24px\"viewBox=\"0 0 24 24\"\n",
              "       width=\"24px\">\n",
              "    <path d=\"M0 0h24v24H0V0z\" fill=\"none\"/>\n",
              "    <path d=\"M18.56 5.44l.94 2.06.94-2.06 2.06-.94-2.06-.94-.94-2.06-.94 2.06-2.06.94zm-11 1L8.5 8.5l.94-2.06 2.06-.94-2.06-.94L8.5 2.5l-.94 2.06-2.06.94zm10 10l.94 2.06.94-2.06 2.06-.94-2.06-.94-.94-2.06-.94 2.06-2.06.94z\"/><path d=\"M17.41 7.96l-1.37-1.37c-.4-.4-.92-.59-1.43-.59-.52 0-1.04.2-1.43.59L10.3 9.45l-7.72 7.72c-.78.78-.78 2.05 0 2.83L4 21.41c.39.39.9.59 1.41.59.51 0 1.02-.2 1.41-.59l7.78-7.78 2.81-2.81c.8-.78.8-2.07 0-2.86zM5.41 20L4 18.59l7.72-7.72 1.47 1.35L5.41 20z\"/>\n",
              "  </svg>\n",
              "      </button>\n",
              "      \n",
              "  <style>\n",
              "    .colab-df-container {\n",
              "      display:flex;\n",
              "      flex-wrap:wrap;\n",
              "      gap: 12px;\n",
              "    }\n",
              "\n",
              "    .colab-df-convert {\n",
              "      background-color: #E8F0FE;\n",
              "      border: none;\n",
              "      border-radius: 50%;\n",
              "      cursor: pointer;\n",
              "      display: none;\n",
              "      fill: #1967D2;\n",
              "      height: 32px;\n",
              "      padding: 0 0 0 0;\n",
              "      width: 32px;\n",
              "    }\n",
              "\n",
              "    .colab-df-convert:hover {\n",
              "      background-color: #E2EBFA;\n",
              "      box-shadow: 0px 1px 2px rgba(60, 64, 67, 0.3), 0px 1px 3px 1px rgba(60, 64, 67, 0.15);\n",
              "      fill: #174EA6;\n",
              "    }\n",
              "\n",
              "    [theme=dark] .colab-df-convert {\n",
              "      background-color: #3B4455;\n",
              "      fill: #D2E3FC;\n",
              "    }\n",
              "\n",
              "    [theme=dark] .colab-df-convert:hover {\n",
              "      background-color: #434B5C;\n",
              "      box-shadow: 0px 1px 3px 1px rgba(0, 0, 0, 0.15);\n",
              "      filter: drop-shadow(0px 1px 2px rgba(0, 0, 0, 0.3));\n",
              "      fill: #FFFFFF;\n",
              "    }\n",
              "  </style>\n",
              "\n",
              "      <script>\n",
              "        const buttonEl =\n",
              "          document.querySelector('#df-62dba64f-3576-462d-a0b2-6a5091b795c5 button.colab-df-convert');\n",
              "        buttonEl.style.display =\n",
              "          google.colab.kernel.accessAllowed ? 'block' : 'none';\n",
              "\n",
              "        async function convertToInteractive(key) {\n",
              "          const element = document.querySelector('#df-62dba64f-3576-462d-a0b2-6a5091b795c5');\n",
              "          const dataTable =\n",
              "            await google.colab.kernel.invokeFunction('convertToInteractive',\n",
              "                                                     [key], {});\n",
              "          if (!dataTable) return;\n",
              "\n",
              "          const docLinkHtml = 'Like what you see? Visit the ' +\n",
              "            '<a target=\"_blank\" href=https://colab.research.google.com/notebooks/data_table.ipynb>data table notebook</a>'\n",
              "            + ' to learn more about interactive tables.';\n",
              "          element.innerHTML = '';\n",
              "          dataTable['output_type'] = 'display_data';\n",
              "          await google.colab.output.renderOutput(dataTable, element);\n",
              "          const docLink = document.createElement('div');\n",
              "          docLink.innerHTML = docLinkHtml;\n",
              "          element.appendChild(docLink);\n",
              "        }\n",
              "      </script>\n",
              "    </div>\n",
              "  </div>\n",
              "  "
            ]
          },
          "metadata": {},
          "execution_count": 299
        }
      ]
    },
    {
      "cell_type": "code",
      "source": [
        "data.head()\n",
        "data.columns"
      ],
      "metadata": {
        "id": "DagR5YS3fVQF",
        "outputId": "267f3c1a-1b1a-4be1-c6ce-af7c008163ad",
        "colab": {
          "base_uri": "https://localhost:8080/"
        }
      },
      "execution_count": 297,
      "outputs": [
        {
          "output_type": "execute_result",
          "data": {
            "text/plain": [
              "Index(['title', 'id', 'language', 'resultType', 'access', 'distance',\n",
              "       'categories', 'references', 'contacts', 'address.label',\n",
              "       'address.countryCode', 'address.countryName', 'address.county',\n",
              "       'address.city', 'address.district', 'address.street', 'position.lat',\n",
              "       'position.lng', 'localityType', 'mapView.west', 'mapView.south',\n",
              "       'mapView.east', 'mapView.north'],\n",
              "      dtype='object')"
            ]
          },
          "metadata": {},
          "execution_count": 297
        }
      ]
    },
    {
      "cell_type": "code",
      "source": [
        "data=data[['address.label','address.city']]\n",
        "data.head()"
      ],
      "metadata": {
        "id": "pNmCBPcrfXHJ",
        "outputId": "7deacf2e-211a-4c3c-c715-a04ce0becda5",
        "colab": {
          "base_uri": "https://localhost:8080/",
          "height": 206
        }
      },
      "execution_count": 311,
      "outputs": [
        {
          "output_type": "execute_result",
          "data": {
            "text/plain": [
              "                                       address.label address.city\n",
              "0  قسم مدينة نصر ثان, شارع محمود طه, القاهرة, الق...      القاهرة\n",
              "1                          مدينة نصر 2, القاهرة, مصر      القاهرة\n",
              "2  قسم الشرطة ثانى مدينة نصر, شارع علي امين, القا...      القاهرة\n",
              "3       مدينة نصر, طريق النصر, القاهرة, القاهرة, مصر      القاهرة\n",
              "4                          مدينة نصر 1, القاهرة, مصر      القاهرة"
            ],
            "text/html": [
              "\n",
              "  <div id=\"df-dd3b0d7d-2a5c-4077-a89b-46c3cc08e8f9\">\n",
              "    <div class=\"colab-df-container\">\n",
              "      <div>\n",
              "<style scoped>\n",
              "    .dataframe tbody tr th:only-of-type {\n",
              "        vertical-align: middle;\n",
              "    }\n",
              "\n",
              "    .dataframe tbody tr th {\n",
              "        vertical-align: top;\n",
              "    }\n",
              "\n",
              "    .dataframe thead th {\n",
              "        text-align: right;\n",
              "    }\n",
              "</style>\n",
              "<table border=\"1\" class=\"dataframe\">\n",
              "  <thead>\n",
              "    <tr style=\"text-align: right;\">\n",
              "      <th></th>\n",
              "      <th>address.label</th>\n",
              "      <th>address.city</th>\n",
              "    </tr>\n",
              "  </thead>\n",
              "  <tbody>\n",
              "    <tr>\n",
              "      <th>0</th>\n",
              "      <td>قسم مدينة نصر ثان, شارع محمود طه, القاهرة, الق...</td>\n",
              "      <td>القاهرة</td>\n",
              "    </tr>\n",
              "    <tr>\n",
              "      <th>1</th>\n",
              "      <td>مدينة نصر 2, القاهرة, مصر</td>\n",
              "      <td>القاهرة</td>\n",
              "    </tr>\n",
              "    <tr>\n",
              "      <th>2</th>\n",
              "      <td>قسم الشرطة ثانى مدينة نصر, شارع علي امين, القا...</td>\n",
              "      <td>القاهرة</td>\n",
              "    </tr>\n",
              "    <tr>\n",
              "      <th>3</th>\n",
              "      <td>مدينة نصر, طريق النصر, القاهرة, القاهرة, مصر</td>\n",
              "      <td>القاهرة</td>\n",
              "    </tr>\n",
              "    <tr>\n",
              "      <th>4</th>\n",
              "      <td>مدينة نصر 1, القاهرة, مصر</td>\n",
              "      <td>القاهرة</td>\n",
              "    </tr>\n",
              "  </tbody>\n",
              "</table>\n",
              "</div>\n",
              "      <button class=\"colab-df-convert\" onclick=\"convertToInteractive('df-dd3b0d7d-2a5c-4077-a89b-46c3cc08e8f9')\"\n",
              "              title=\"Convert this dataframe to an interactive table.\"\n",
              "              style=\"display:none;\">\n",
              "        \n",
              "  <svg xmlns=\"http://www.w3.org/2000/svg\" height=\"24px\"viewBox=\"0 0 24 24\"\n",
              "       width=\"24px\">\n",
              "    <path d=\"M0 0h24v24H0V0z\" fill=\"none\"/>\n",
              "    <path d=\"M18.56 5.44l.94 2.06.94-2.06 2.06-.94-2.06-.94-.94-2.06-.94 2.06-2.06.94zm-11 1L8.5 8.5l.94-2.06 2.06-.94-2.06-.94L8.5 2.5l-.94 2.06-2.06.94zm10 10l.94 2.06.94-2.06 2.06-.94-2.06-.94-.94-2.06-.94 2.06-2.06.94z\"/><path d=\"M17.41 7.96l-1.37-1.37c-.4-.4-.92-.59-1.43-.59-.52 0-1.04.2-1.43.59L10.3 9.45l-7.72 7.72c-.78.78-.78 2.05 0 2.83L4 21.41c.39.39.9.59 1.41.59.51 0 1.02-.2 1.41-.59l7.78-7.78 2.81-2.81c.8-.78.8-2.07 0-2.86zM5.41 20L4 18.59l7.72-7.72 1.47 1.35L5.41 20z\"/>\n",
              "  </svg>\n",
              "      </button>\n",
              "      \n",
              "  <style>\n",
              "    .colab-df-container {\n",
              "      display:flex;\n",
              "      flex-wrap:wrap;\n",
              "      gap: 12px;\n",
              "    }\n",
              "\n",
              "    .colab-df-convert {\n",
              "      background-color: #E8F0FE;\n",
              "      border: none;\n",
              "      border-radius: 50%;\n",
              "      cursor: pointer;\n",
              "      display: none;\n",
              "      fill: #1967D2;\n",
              "      height: 32px;\n",
              "      padding: 0 0 0 0;\n",
              "      width: 32px;\n",
              "    }\n",
              "\n",
              "    .colab-df-convert:hover {\n",
              "      background-color: #E2EBFA;\n",
              "      box-shadow: 0px 1px 2px rgba(60, 64, 67, 0.3), 0px 1px 3px 1px rgba(60, 64, 67, 0.15);\n",
              "      fill: #174EA6;\n",
              "    }\n",
              "\n",
              "    [theme=dark] .colab-df-convert {\n",
              "      background-color: #3B4455;\n",
              "      fill: #D2E3FC;\n",
              "    }\n",
              "\n",
              "    [theme=dark] .colab-df-convert:hover {\n",
              "      background-color: #434B5C;\n",
              "      box-shadow: 0px 1px 3px 1px rgba(0, 0, 0, 0.15);\n",
              "      filter: drop-shadow(0px 1px 2px rgba(0, 0, 0, 0.3));\n",
              "      fill: #FFFFFF;\n",
              "    }\n",
              "  </style>\n",
              "\n",
              "      <script>\n",
              "        const buttonEl =\n",
              "          document.querySelector('#df-dd3b0d7d-2a5c-4077-a89b-46c3cc08e8f9 button.colab-df-convert');\n",
              "        buttonEl.style.display =\n",
              "          google.colab.kernel.accessAllowed ? 'block' : 'none';\n",
              "\n",
              "        async function convertToInteractive(key) {\n",
              "          const element = document.querySelector('#df-dd3b0d7d-2a5c-4077-a89b-46c3cc08e8f9');\n",
              "          const dataTable =\n",
              "            await google.colab.kernel.invokeFunction('convertToInteractive',\n",
              "                                                     [key], {});\n",
              "          if (!dataTable) return;\n",
              "\n",
              "          const docLinkHtml = 'Like what you see? Visit the ' +\n",
              "            '<a target=\"_blank\" href=https://colab.research.google.com/notebooks/data_table.ipynb>data table notebook</a>'\n",
              "            + ' to learn more about interactive tables.';\n",
              "          element.innerHTML = '';\n",
              "          dataTable['output_type'] = 'display_data';\n",
              "          await google.colab.output.renderOutput(dataTable, element);\n",
              "          const docLink = document.createElement('div');\n",
              "          docLink.innerHTML = docLinkHtml;\n",
              "          element.appendChild(docLink);\n",
              "        }\n",
              "      </script>\n",
              "    </div>\n",
              "  </div>\n",
              "  "
            ]
          },
          "metadata": {},
          "execution_count": 311
        }
      ]
    },
    {
      "cell_type": "code",
      "source": [
        "data.shape"
      ],
      "metadata": {
        "id": "VWJW5ugpf4-K",
        "outputId": "405895c4-4f86-4275-f5aa-7bcfc975b0c1",
        "colab": {
          "base_uri": "https://localhost:8080/"
        }
      },
      "execution_count": 302,
      "outputs": [
        {
          "output_type": "execute_result",
          "data": {
            "text/plain": [
              "(234, 2)"
            ]
          },
          "metadata": {},
          "execution_count": 302
        }
      ]
    },
    {
      "cell_type": "code",
      "source": [
        "data.to_csv(r'C:\\Users\\sawsan\\Desktop\\data.csv', index=False)\n"
      ],
      "metadata": {
        "id": "EbT2nyy4jWtM"
      },
      "execution_count": 312,
      "outputs": []
    },
    {
      "cell_type": "code",
      "source": [
        "data['address.city'].unique()"
      ],
      "metadata": {
        "id": "kWcB7Pf9gQ1w",
        "outputId": "b1951d5f-2eb2-42fd-b531-631ba8807f5d",
        "colab": {
          "base_uri": "https://localhost:8080/"
        }
      },
      "execution_count": 305,
      "outputs": [
        {
          "output_type": "execute_result",
          "data": {
            "text/plain": [
              "array(['القاهرة'], dtype=object)"
            ]
          },
          "metadata": {},
          "execution_count": 305
        }
      ]
    },
    {
      "cell_type": "code",
      "source": [
        "#base=\" https://discover.search.hereapi.com/v1/discover?apiKey=YdwX1rPlKcS4pifCTqpFBYpf1a2ADcdXTSmmmHiQ2aM&at=30.04427,31.23525&q=[الساحل]&languages=ar-US\"\n",
        "base=\"https://places.ls.hereapi.com/places/v1/autosuggest?at=30.04,-31.2&q=alex&apiKey=YdwX1rPlKcS4pifCTqpFBYpf1a2ADcdXTSmmmHiQ2aM\"\n",
        "#position_alex': [30.04427, 31.23525"
      ],
      "metadata": {
        "id": "p824K67PgnCd"
      },
      "execution_count": 308,
      "outputs": []
    },
    {
      "cell_type": "code",
      "source": [
        "texta=requests.get(url=base)"
      ],
      "metadata": {
        "id": "nGXvtikuhxKH"
      },
      "execution_count": 309,
      "outputs": []
    },
    {
      "cell_type": "code",
      "source": [
        "texta"
      ],
      "metadata": {
        "id": "UjuH43_uh9mz",
        "outputId": "21a8d6c5-607c-4bf2-f610-f5a2b49a85c9",
        "colab": {
          "base_uri": "https://localhost:8080/"
        }
      },
      "execution_count": 310,
      "outputs": [
        {
          "output_type": "execute_result",
          "data": {
            "text/plain": [
              "<Response [200]>"
            ]
          },
          "metadata": {},
          "execution_count": 310
        }
      ]
    },
    {
      "cell_type": "code",
      "source": [
        "texta.json()"
      ],
      "metadata": {
        "id": "6F2KE05ciFFB"
      },
      "execution_count": null,
      "outputs": []
    },
    {
      "cell_type": "code",
      "source": [
        ""
      ],
      "metadata": {
        "id": "4zXmb3BKiTDp"
      },
      "execution_count": null,
      "outputs": []
    }
  ]
}